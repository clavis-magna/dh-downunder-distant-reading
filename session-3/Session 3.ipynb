{
 "cells": [
  {
   "cell_type": "markdown",
   "metadata": {},
   "source": [
    "# DH Downunder: Distant Reading\n",
    "\n",
    "## Notebook 3: Stylistics, or Computer Magic\n",
    "\n",
    "One of the most interesting applications of distant reading techniques is authorship attribution. In this third and final notebook for our Distant Reading course, we will consider how text analysis can be used to work out the true identity of a text's author.\n",
    "\n",
    "Authorship attribution will also give us a chance to introduce several concepts from data science, such as vectors, distance metrics and clustering. These concepts are useful in a number of areas beyond authorship attribution.\n",
    "\n",
    "Execute the cell below to load all the packages required for this notebook."
   ]
  },
  {
   "cell_type": "code",
   "execution_count": 1,
   "metadata": {},
   "outputs": [],
   "source": [
    "import pickle # for loading data\n",
    "import numpy # for doing maths\n",
    "import nltk # for natural language processing functions\n",
    "import matplotlib # for displaying graphs\n",
    "import random # some useful randomisation functions\n",
    "from import_corpus import import_corpus\n",
    "\n",
    "# So graphs render properly\n",
    "%matplotlib inline"
   ]
  },
  {
   "cell_type": "markdown",
   "metadata": {},
   "source": [
    "# Section 1: Load and Inspect our Corpus\n",
    "\n",
    "For this notebook, I have pre-prepared a corpus for you. Execute the cell below to import all the novels into your workspace."
   ]
  },
  {
   "cell_type": "code",
   "execution_count": 2,
   "metadata": {},
   "outputs": [
    {
     "name": "stdout",
     "output_type": "stream",
     "text": [
      "Wyllard's Weird, by Mary Braddon successfully imported.\n",
      "Castle Rackrent, by Maria Edgeworth successfully imported.\n",
      "The Hungry Stones, and Other Stories, by Rabindranath Tagore successfully imported.\n",
      "The Talisman, by Sir Walter Scott successfully imported.\n",
      "Ivanhoe, by Sir Walter Scott successfully imported.\n",
      "Belinda, by Maria Edgeworth successfully imported.\n",
      "The Absentee, by Maria Edgeworth successfully imported.\n",
      "The Blithdale Romance, by Nathaniel Hawthorne successfully imported.\n",
      "Old Mortality, by Sir Walter Scott successfully imported.\n",
      "The Crimson Cryptogram, by Fergus Hume successfully imported.\n",
      "The Heart of Mid-Lothian, by Sir Walter Scott successfully imported.\n",
      "Lady Audley's Secret, by Mary Braddon successfully imported.\n",
      "Waverley; or, 'tis Sixty Years Since, by ??? successfully imported.\n",
      "The Disappearing Eye, by Fergus Hume successfully imported.\n",
      "The Bride of Lammermoor, by Sir Walter Scott successfully imported.\n",
      "The Lost Parchment, by Fergus Hume successfully imported.\n",
      "The Mystery of the Hansom Cab, by Fergus Hume successfully imported.\n",
      "An Australian Girl, by Catherine Martin successfully imported.\n",
      "Rob Roy, by Sir Walter Scott successfully imported.\n",
      "The Scarlet Letter, by Nathaniel Hawthorne successfully imported.\n",
      "Mashi, and Other Stories, by Rabindranath Tagore successfully imported.\n",
      "The House of the Seven Gables, by Nathaniel Hawthorne successfully imported.\n"
     ]
    }
   ],
   "source": [
    "novels = import_corpus()"
   ]
  },
  {
   "cell_type": "markdown",
   "metadata": {},
   "source": [
    "There is one mystery novel in our corpus! *Waverley, or 'tis Sixty Years Since* was written by ???. In this session we are going to use statistical analysis to find out who the author of this anonymously published novel really was.\n",
    "\n",
    "Each novel in the corpus is stored as a dict. Execute the cell below to see the structure of a typical entry:"
   ]
  },
  {
   "cell_type": "code",
   "execution_count": 38,
   "metadata": {},
   "outputs": [
    {
     "name": "stdout",
     "output_type": "stream",
     "text": [
      "Each novel is a dict with six keys.\n",
      "For example, consider the 12th novel in the corpus:\n",
      "\n",
      "novels[12][\"title\"] is the title of novel 12: Waverley; or, 'tis Sixty Years Since\n",
      "\n",
      "novels[12][\"author\"] is the author of novel 12: ???\n",
      "\n",
      "novels[12][\"tokens\"] is a list of the words in novel 12: ...['Author', 'of', 'this', 'collection', 'of', 'Works', 'of', 'Fiction', 'would', 'not', 'have', 'presumed', 'to', 'solicit', 'for']...\n",
      "\n",
      "novels[12][\"header\"] is the Project Gutenberg header of novel 12: ﻿The Project Gutenberg EBook of Waverley,  Or, 'Ti...\n",
      "\n",
      "novels[12][\"licence\"] is the licence of novel 12: *** END OF THIS PROJECT GUTENBERG EBOOK WAVERLEY *...\n",
      "\n",
      "novels[12][\"body\"] is the text of novel 12: ...ded the warmest wish of your Majesty's\n",
      "heart, by contributing in however small a degree to the happiness of your\n",
      "people.\n",
      "\n",
      "They are therefore humbly dedicated to your Majesty, agreeably to your\n",
      "graciou...\n",
      "\n"
     ]
    }
   ],
   "source": [
    "i = random.randint(0, len(novels)-1) # Pick a random number between 0 and the number of novels -1\n",
    "\n",
    "# We will use this number to look at one of the novels in the list:\n",
    "\n",
    "print(f'Each novel is a dict with six keys.')\n",
    "print(f'For example, consider the {i}th novel in the corpus:\\n')\n",
    "print(f'novels[{i}][\"title\"] is the title of novel {i}: {novels[i][\"title\"]}\\n')\n",
    "print(f'novels[{i}][\"author\"] is the author of novel {i}: {novels[i][\"author\"]}\\n')\n",
    "print(f'novels[{i}][\"tokens\"] is a list of the words in novel {i}: ...{novels[i][\"tokens\"][100:115]}...\\n')\n",
    "print(f'novels[{i}][\"header\"] is the Project Gutenberg header of novel {i}: {novels[i][\"header\"][0:50]}...\\n')\n",
    "print(f'novels[{i}][\"licence\"] is the licence of novel {i}: {novels[i][\"licence\"][0:50]}...\\n')\n",
    "print(f'novels[{i}][\"body\"] is the text of novel {i}: ...{novels[i][\"body\"][1000:1200]}...\\n')\n"
   ]
  }
 ],
 "metadata": {
  "kernelspec": {
   "display_name": "Python 3",
   "language": "python",
   "name": "python3"
  },
  "language_info": {
   "codemirror_mode": {
    "name": "ipython",
    "version": 3
   },
   "file_extension": ".py",
   "mimetype": "text/x-python",
   "name": "python",
   "nbconvert_exporter": "python",
   "pygments_lexer": "ipython3",
   "version": "3.7.0"
  }
 },
 "nbformat": 4,
 "nbformat_minor": 2
}
