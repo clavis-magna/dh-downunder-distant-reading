{
 "cells": [
  {
   "cell_type": "markdown",
   "metadata": {},
   "source": [
    "# DH Downunder: Distant Reading\n",
    "\n",
    "## Notebook 2: Large Corpora, Regular Expressions, and the NLTK\n",
    "\n",
    "**Session 2: Tuesday 4th December, 11:00-12:30**\n",
    "\n",
    "Welcome back to *Distant Reading*. In this notebook, we will build on your skills in Python and introduce the Natural Language Toolkit, a powerful set of tools for working with textual data.\n",
    "\n",
    "## Section 1: Working with a larger corpus\n",
    "\n",
    "So far you have been implementing Python commands one at a time. This will obviously become very tedious if you have to deal with more than two or three texts. What if you want to run a stylometric analysis on all 6 of Jane Austen's novels, or all 32 of Shakespeare's plays, or on a historical corpus of thousands of letters or millions of newspaper articles?\n",
    "\n",
    "Luckily Python, like other programming languages, includings a number of 'control structures' that allow you to stitch your code together. All you need to do it write one bit of code, and you can apply it to as many different texts as you want.\n",
    "\n",
    "The control structure we will focus on today is the `for` loop. Execute the cell below to add `2` to every number in `my_list`."
   ]
  },
  {
   "cell_type": "code",
   "execution_count": 1,
   "metadata": {},
   "outputs": [
    {
     "name": "stdout",
     "output_type": "stream",
     "text": [
      "The new number is 9.\n",
      "The new number is 14.\n",
      "The new number is 86.\n",
      "The new number is 8.\n",
      "The new number is 2.\n"
     ]
    }
   ],
   "source": [
    "my_list = [7, 12, 84, 6, 0]\n",
    "\n",
    "for number in my_list:\n",
    "    new_number = number + 2\n",
    "    print(f\"The new number is {new_number}.\")"
   ]
  },
  {
   "cell_type": "markdown",
   "metadata": {},
   "source": [
    "I have placed a corpus of texts in the `session-2/corpus` folder. The plan is to use a `for` loop to loop over all the files in that folder and import them into Python.\n",
    "\n",
    "Before we can do that, I need to introduce one other key Python concept, the `dict`. A `dict` is another data type, like a `list`. It is a way of storing information that your program can use. But `dicts` store information in a different way to `lists`. To find items in a list, you need to know where they are: you can fetch the 1000th word of your novel, for instance, or the third number in `my_list`, using the index, e.g. `my_list[3]` to get the fourth element.\n",
    "\n",
    "A `dict` is different, because each item in a `dict` has a name that you can use to fetch information. This works exactly the same way as indexing a list, but instead of putting a number in the square brackets, you need to put a string, e.g. `fruits['orange']`. In the cell below, use the `dict` to find out which `family` Prince Arjuna belongs to."
   ]
  },
  {
   "cell_type": "code",
   "execution_count": null,
   "metadata": {},
   "outputs": [],
   "source": [
    "arjuna = {'gender':'M', 'species':'demigod', 'family':'Pandavas', 'profession':'archer'}\n",
    "\n",
    "# YOUR CODE HERE\n",
    "arjunas_family = \n",
    "# END OF YOUR CODE\n",
    "\n",
    "print(f'Arjuna belongs to the {arjunas_family}.')"
   ]
  }
 ],
 "metadata": {
  "kernelspec": {
   "display_name": "Python 3",
   "language": "python",
   "name": "python3"
  },
  "language_info": {
   "codemirror_mode": {
    "name": "ipython",
    "version": 3
   },
   "file_extension": ".py",
   "mimetype": "text/x-python",
   "name": "python",
   "nbconvert_exporter": "python",
   "pygments_lexer": "ipython3",
   "version": "3.7.0"
  }
 },
 "nbformat": 4,
 "nbformat_minor": 2
}
